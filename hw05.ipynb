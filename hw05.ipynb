{
  "cells": [
    {
      "cell_type": "markdown",
      "id": "f25056fc-44dd-4baa-88ff-b2e879a9d2c4",
      "metadata": {},
      "source": [
        "# BEE 4750 Homework 5: Mixed Integer and Stochastic Programming\n",
        "\n",
        "**Name**: Bailey Belinger, Camila Monter, Priya Shah\n",
        "\n",
        "**ID**: 5277347\n",
        "\n",
        "> **Due Date**\n",
        ">\n",
        "> Thursday, 12/05/24, 9:00pm\n",
        "\n",
        "## Overview"
      ]
    },
    {
      "cell_type": "markdown",
      "id": "bdc61f0a-d224-4e85-9d0f-dc78118e17b2",
      "metadata": {},
      "source": [
        "### Instructions\n",
        "\n",
        "-   In Problem 1, you will use mixed integer programming to solve a\n",
        "    waste load allocation problem."
      ]
    },
    {
      "cell_type": "markdown",
      "id": "f28855a0-60d2-442e-b8ef-1ceaee826af6",
      "metadata": {},
      "source": [
        "### Load Environment\n",
        "\n",
        "The following code loads the environment and makes sure all needed\n",
        "packages are installed. This should be at the start of most Julia\n",
        "scripts."
      ]
    },
    {
      "cell_type": "code",
      "execution_count": 21,
      "id": "2",
      "metadata": {},
      "outputs": [
        {
          "name": "stderr",
          "output_type": "stream",
          "text": [
            "\u001b[32m\u001b[1m  Activating\u001b[22m\u001b[39m project at `~/Downloads/BEE4750/hw5-last-3-brain-cells-1`\n"
          ]
        }
      ],
      "source": [
        "import Pkg\n",
        "Pkg.activate(@__DIR__)\n",
        "Pkg.instantiate()"
      ]
    },
    {
      "cell_type": "code",
      "execution_count": 22,
      "id": "4",
      "metadata": {},
      "outputs": [],
      "source": [
        "using JuMP\n",
        "using HiGHS\n",
        "using DataFrames\n",
        "using GraphRecipes\n",
        "using Plots\n",
        "using Measures\n",
        "using MarkdownTables"
      ]
    },
    {
      "cell_type": "markdown",
      "id": "7cd4181d-a987-4e3a-8dad-cfdef5fb6270",
      "metadata": {},
      "source": [
        "## Problems (Total: 30 Points)\n",
        "\n",
        "### Problem 1 (30 points)\n",
        "\n",
        "Three cities are developing a coordinated municipal solid waste (MSW)\n",
        "disposal plan. Three disposal alternatives are being considered: a\n",
        "landfill (LF), a materials recycling facility (MRF), and a\n",
        "waste-to-energy facility (WTE). The capacities of these facilities and\n",
        "the fees for operation and disposal are provided below.\n",
        "\n",
        "-   **LF**: Capacity 200 Mg, fixed cost \\$2000/day, tipping cost\n",
        "    \\$50/Mg;\n",
        "-   **MRF**: Capacity 350 Mg, fixed cost \\$1500/day, tipping cost\n",
        "    \\$7/Mg, recycling cost \\$40/Mg recycled;\n",
        "-   **WTE**: Capacity 210 Mg, fixed cost \\$2500/day, tipping cost\n",
        "    \\$60/Mg;\n",
        "\n",
        "The MRF recycling rate is 40%, and the ash fraction of non-recycled\n",
        "waste is 16% and of recycled waste is 14%. Transportation costs are\n",
        "\\$1.5/Mg-km, and the relative distances between the cities and\n",
        "facilities are provided in the table below.\n",
        "\n",
        "| **City/Facility** | **Landfill (km)** | **MRF (km)** | **WTE (km)** |\n",
        "|:-----------------:|:-----------------:|:------------:|:------------:|\n",
        "|         1         |         5         |      30      |      15      |\n",
        "|         2         |        15         |      25      |      10      |\n",
        "|         3         |        13         |      45      |      20      |\n",
        "|        LF         |        \\-         |      32      |      18      |\n",
        "|        MRF        |        32         |      \\-      |      15      |\n",
        "|        WTE        |        18         |      15      |      \\-      |\n",
        "\n",
        "The fixed costs associated with the disposal options are incurred only\n",
        "if the particular disposal option is implemented. The three cities\n",
        "produce 100, 90, and 120 Mg/day of solid waste, respectively, with the\n",
        "composition provided in the table below.\n",
        "\n",
        "**Reminder**: Use `round(x; digits=n)` to report values to the\n",
        "appropriate precision!\n",
        "\n",
        "**In this problem**:\n",
        "\n",
        "-   Formulate the waste load allocation problem and implement it in\n",
        "    `JuMP`.\n",
        "-   Draw a diagram showing the flows of waste between the cities and the\n",
        "    facilities. Which facilities (if any) will not be used? Does this\n",
        "    solution make sense?"
      ]
    },
    {
      "cell_type": "code",
      "execution_count": 32,
      "id": "119907a9",
      "metadata": {},
      "outputs": [
        {
          "name": "stdout",
          "output_type": "stream",
          "text": [
            "W = 2-dimensional DenseAxisArray{VariableRef,2,...} with index sets:\n",
            "    Dimension 1, 1:3\n",
            "    Dimension 2, 1:3\n",
            "And data, a 3×3 Matrix{VariableRef}:\n",
            " W[1,1]  W[1,2]  W[1,3]\n",
            " W[2,1]  W[2,2]  W[2,3]\n",
            " W[3,1]  W[3,2]  W[3,3]\n",
            "R = 2-dimensional DenseAxisArray{VariableRef,2,...} with index sets:\n",
            "    Dimension 1, 1:3\n",
            "    Dimension 2, 1:3\n",
            "And data, a 3×3 Matrix{VariableRef}:\n",
            " R[1,1]  R[1,2]  R[1,3]\n",
            " R[2,1]  R[2,2]  R[2,3]\n",
            " R[3,1]  R[3,2]  R[3,3]\n",
            "Y = 1-dimensional DenseAxisArray{VariableRef,1,...} with index sets:\n",
            "    Dimension 1, 1:3\n",
            "And data, a 3-element Vector{VariableRef}:\n",
            " Y[1]\n",
            " Y[2]\n",
            " Y[3]\n",
            "Running HiGHS 1.8.1 (git hash: 4a7f24ac6): Copyright (c) 2024 HiGHS under MIT licence terms\n",
            "Coefficient ranges:\n",
            "  Matrix [2e-01, 1e+03]\n",
            "  Cost   [7e+00, 2e+03]\n",
            "  Bound  [0e+00, 0e+00]\n",
            "  RHS    [1e+00, 4e+02]\n",
            "Presolving model\n",
            "7 rows, 12 cols, 28 nonzeros  0s\n",
            "6 rows, 11 cols, 26 nonzeros  0s\n",
            "Presolve : Reductions: rows 6(-11); columns 11(-10); elements 26(-32)\n",
            "Solving the presolved LP\n",
            "Using EKK dual simplex solver - serial\n",
            "  Iteration        Objective     Infeasibilities num(sum)\n",
            "          0     2.5000000000e+03 Pr: 3(155) 0s\n",
            "          6     2.6934000000e+04 Pr: 0(0) 0s\n",
            "Solving the original LP from the solution after postsolve\n",
            "Model status        : Optimal\n",
            "Simplex   iterations: 6\n",
            "Objective value     :  2.6934000000e+04\n",
            "Relative P-D gap    :  0.0000000000e+00\n",
            "HiGHS run time      :          0.00\n"
          ]
        },
        {
          "data": {
            "text/plain": [
              "0.0"
            ]
          },
          "metadata": {},
          "output_type": "display_data"
        }
      ],
      "source": [
        "I = 1:3\n",
        "J = 1:3\n",
        "K = 1:3\n",
        "\n",
        "l = [5 30 15; 15 25 10; 13 45 20] # Distance between source i and disposal j (km)\n",
        "a = 1.5 .* l # Cost of transporting waste from source i to disposal j ($/Mg-km)\n",
        "c = [2000 1500 2500] # Fixed costs of operating disposal j ($/day)\n",
        "b = [50 7 60] # Variable cost of disposing waste at disposal j ($/Mg)\n",
        "MRF_recylcing_rate = 0.4 \n",
        "MRF_recylcing_cost = 40\n",
        "recycling = [0 (MRF_recylcing_rate * MRF_recylcing_cost) 0] # recycling costs at disposal j \n",
        "residuals = [0 32 18; 32 0 15; 18 15 0] # distance between facilities (km)\n",
        "residual_cost = 1.5 .* residuals # Cost of transporting waste from disposal k to disposal j ($/Mg-km)\n",
        "WTE_Residual_Ash = 0.16\n",
        "production = [100 90 120] # solid waste production at each city i (Mg/day)\n",
        "disposal_limit = [200 350 210] # capacity of each disposal j (Mg)\n",
        "\n",
        "MSW_model = Model(HiGHS.Optimizer)\n",
        "\n",
        "# Waste Management Decision Variables\n",
        "@variable(MSW_model, W[i in I, j in J] >= 0)  # Waste transported from city i to disposal j (Mg/day)\n",
        "@variable(MSW_model, R[k in K, j in J] >= 0)  # Residual waste transported from disposal k to disposal j (Mg/day)\n",
        "@variable(MSW_model, Y[j in J] >= 0)  # Operational status (on/off) of disposal j (binary)\n",
        "\n",
        "# Objective Functions \n",
        "transpo_cost = sum(a[i, j] * W[i, j] for i in I, j in J) + sum(residual_cost[i, j] * R[i, j] for i in I, j in J)\n",
        "dispo_cost = sum(c[j] * Y[j] + sum(b[j] * W[i, j] for i in I) + sum(b[j] * R[k, j] for k in K) + sum(recycling[j] * W[i, j] for i in I) for j in J)\n",
        "@objective(MSW_model, Min, sum(transpo_cost + dispo_cost))\n",
        "\n",
        "# Constraints \n",
        "# Residual Flow Constraint\n",
        "allowed_pairs = [(1, 3), (2, 3), (2, 1)]\n",
        "# before: @constraint(MSW_model, residual_flow_contraint, [k in K, j in J; (k, j) ∉ allowed_pairs], R[k, j] == 0)\n",
        "for k in K, j in J\n",
        "    if (k, j) ∉ allowed_pairs\n",
        "        @constraint(MSW_model, R[k, j] == 0)\n",
        "    end\n",
        "end\n",
        "\n",
        "# City Mass-Balance Constraints\n",
        "# before: @constraint(MSW_model, city_mb_contraint, sum(W[i, j] for j in J) == production[i] for i in I)\n",
        "@constraint(MSW_model, city_mb_contraint1, sum(W[1, j] for j in J) == production[1])\n",
        "@constraint(MSW_model, city_mb_contraint2, sum(W[2, j] for j in J) == production[2])\n",
        "@constraint(MSW_model, city_mb_contraint3, sum(W[3, j] for j in J) == production[3])\n",
        "\n",
        "# Residual Mass-Balance Constraints\n",
        "@constraint(MSW_model, residual_WTE_mb_contraint, R[1, 3] == WTE_Residual_Ash * (sum(W[i, 1] for i in I) + sum(R[k, 1] for k in K)))\n",
        "@constraint(MSW_model, residual_MRF_mb_contraint, R[2, 1] + R[2, 3] == (1 - MRF_recylcing_rate) * (sum(W[i, 2] for i in I) + sum(R[k, 2] for k in K)))\n",
        "\n",
        "# Disposal Limit Constraint\n",
        "# before: @constraint(MSW_model, disposal_limit_contraint, sum(W[i, j] for i in I) + sum(R[k, j] for k in K) <= disposal_limit[j] for j in J)\n",
        "@constraint(MSW_model, disposal_limit_contraint1, sum(W[i, 1] for i in I) + sum(R[k, 1] for k in K) <= disposal_limit[1])\n",
        "@constraint(MSW_model, disposal_limit_contraint2, sum(W[i, 2] for i in I) + sum(R[k, 2] for k in K) <= disposal_limit[2])\n",
        "@constraint(MSW_model, disposal_limit_contraint3, sum(W[i, 3] for i in I) + sum(R[k, 3] for k in K) <= disposal_limit[3])\n",
        "\n",
        "#=\n",
        "# Commitment Constraints\n",
        "@constraint(MSW_model, Y1_constraint, !Y[1] => {W[1,1] + W[2,1] + W[3,1] + R[2,1] == 0})\n",
        "@constraint(MSW_model, Y2_constraint, !Y[2] => {W[1,2] + W[2,2] + W[3,2] == 0})\n",
        "@constraint(MSW_model, Y3_constraint, Y[3] == 1)\n",
        "=#\n",
        "\n",
        "M = 1000  # Choose a sufficiently large value for M\n",
        "\n",
        "# Big-M Constraints for Commitment\n",
        "@constraint(MSW_model, bigM_Y1, W[1,1] + W[2,1] + W[3,1] + R[2,1] <= M * Y[1])\n",
        "@constraint(MSW_model, bigM_Y2, W[1,2] + W[2,2] + W[3,2] <= M * Y[2])\n",
        "@constraint(MSW_model, Y3_constraint, Y[3] == 1)\n",
        "\n",
        "@show W\n",
        "@show R\n",
        "@show Y\n",
        "\n",
        "optimize!(MSW_model)\n",
        "\n",
        "W11 = value.(W[1,1])\n",
        "W12 = value.(W[1,2])\n",
        "W13 = value.(W[1,3])\n",
        "W21 = value.(W[2,1])\n",
        "W22 = value.(W[2,2])\n",
        "W23 = value.(W[2,3])\n",
        "W31 = value.(W[3,1])\n",
        "W32 = value.(W[3,2])\n",
        "W33 = value.(W[3,3])\n",
        "Y1 = value.(Y[1])\n",
        "Y2 = value.(Y[2])\n",
        "Y3 = value.(Y[3])\n",
        "R13 = value.(R[1,3])\n",
        "R23 = value.(R[2,3])\n",
        "R21 = value.(R[2,1])\n"
      ]
    },
    {
      "cell_type": "markdown",
      "id": "b6d659ee-115e-43c3-81d4-56c4aaf92fb7",
      "metadata": {},
      "source": [
        "## References\n",
        "\n",
        "List any external references consulted, including classmates."
      ]
    }
  ],
  "metadata": {
    "kernel_info": {
      "name": "julia"
    },
    "kernelspec": {
      "display_name": "Julia",
      "language": "julia",
      "name": "julia"
    },
    "language_info": {
      "codemirror_mode": "julia",
      "name": "julia",
      "version": "1.10.4"
    }
  },
  "nbformat": 4,
  "nbformat_minor": 5
}
